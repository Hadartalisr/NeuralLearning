{
 "cells": [
  {
   "cell_type": "code",
   "execution_count": 72,
   "id": "47db01dd7a405368",
   "metadata": {
    "collapsed": false,
    "ExecuteTime": {
     "end_time": "2024-02-18T23:32:05.899163Z",
     "start_time": "2024-02-18T23:32:05.757789Z"
    }
   },
   "outputs": [
    {
     "name": "stdout",
     "output_type": "stream",
     "text": [
      "(60000, 28, 28)\n"
     ]
    }
   ],
   "source": [
    "import os\n",
    "import numpy as np\n",
    "import matplotlib.pyplot as plt\n",
    "from utils import loadMNISTLabels, loadMNISTImages, preprocess\n",
    "from copy import deepcopy\n",
    "\n",
    "# from mlp_functions import backprop, test, predict\n",
    "\n",
    "# %% Load images and labels\n",
    "path = '../MNIST_data'\n",
    "def get_path(path, file):\n",
    "    return os.path.join(path, file)\n",
    "\n",
    "ytest = loadMNISTLabels(get_path(path, 't10k-labels.idx1-ubyte'))\n",
    "ytrain = loadMNISTLabels(get_path(path, 'train-labels.idx1-ubyte'))\n",
    "\n",
    "Xtest_raw = loadMNISTImages(get_path(path, 't10k-images.idx3-ubyte'))\n",
    "Xtrain_raw = loadMNISTImages(get_path(path, 'train-images.idx3-ubyte'))\n",
    "\n",
    "print(np.shape(Xtrain_raw))"
   ]
  },
  {
   "cell_type": "code",
   "outputs": [
    {
     "data": {
      "text/plain": "<Figure size 640x480 with 1 Axes>",
      "image/png": "[encoded data removed]"
     },
     "metadata": {},
     "output_type": "display_data"
    }
   ],
   "source": [
    "# %% display a random image with label:\n",
    "img_index = np.random.randint(np.size(Xtrain_raw, axis=0))\n",
    "img = Xtrain_raw[img_index, :, :]\n",
    "plt.imshow(img, cmap='gray')\n",
    "plt.title(str(ytrain[img_index]))\n",
    "plt.show()"
   ],
   "metadata": {
    "collapsed": false,
    "ExecuteTime": {
     "end_time": "2024-02-18T20:55:44.637306Z",
     "start_time": "2024-02-18T20:55:44.505113Z"
    }
   },
   "id": "e05031e8573b1b03",
   "execution_count": 4
  },
  {
   "cell_type": "code",
   "outputs": [],
   "source": [
    "# %% preprocess the images (reshape to vectors and subtract mean)\n",
    "Xtrain = preprocess(Xtrain_raw)\n",
    "Xtest = preprocess(Xtest_raw)\n"
   ],
   "metadata": {
    "collapsed": false,
    "ExecuteTime": {
     "end_time": "2024-02-18T23:32:35.680404Z",
     "start_time": "2024-02-18T23:32:35.545440Z"
    }
   },
   "id": "91e72b492e315e7e",
   "execution_count": 73
  },
  {
   "cell_type": "code",
   "outputs": [],
   "source": [
    "# %% Parameters\n",
    "# The first and last values in layer_sizes should be equal to the input and\n",
    "# output dimensions respectively. Try different values for the layer sizes\n",
    "# inbetween and see how they affect the performance of the network.\n",
    "\n",
    "layers_sizes = [784, 64, 10] # flexible, but must be [784,...,10]\n",
    "epochs = 4      # number of times to repeat over the whole training set\n",
    "eta = 0.1       # learning rate\n",
    "batch_size = 30 # number of samples in each training batch\n"
   ],
   "metadata": {
    "collapsed": false,
    "ExecuteTime": {
     "end_time": "2024-02-18T22:50:10.777093Z",
     "start_time": "2024-02-18T22:50:10.774537Z"
    }
   },
   "id": "9a8470a75e376d25",
   "execution_count": 55
  },
  {
   "cell_type": "code",
   "outputs": [],
   "source": [
    "# %% Initialize weights\n",
    "# The weights are initialized to normally distributed random values. Note\n",
    "# that we scale them by the previous layer size so that the input to\n",
    "# neurons in different layers will be of similar magnitude.\n",
    "\n",
    "def get_new_weights(layers_sizes):\n",
    "    n_weights = len(layers_sizes)-1\n",
    "    weights = np.zeros((n_weights,), dtype=np.ndarray)\n",
    "    for i in range(n_weights):\n",
    "        weights[i] = np.divide(np.random.standard_normal((layers_sizes[i+1],layers_sizes[i])), layers_sizes[i])\n",
    "    return weights\n",
    "\n",
    "weights = get_new_weights(layers_sizes)"
   ],
   "metadata": {
    "collapsed": false,
    "ExecuteTime": {
     "end_time": "2024-02-18T22:50:11.257254Z",
     "start_time": "2024-02-18T22:50:11.246346Z"
    }
   },
   "id": "c7b876590bb3addf",
   "execution_count": 56
  },
  {
   "cell_type": "code",
   "outputs": [
    {
     "name": "stdout",
     "output_type": "stream",
     "text": [
      "(32, 784)\n",
      "(16, 32)\n",
      "(10, 16)\n"
     ]
    }
   ],
   "source": [
    "for i in range(len(weights)):\n",
    "    print(np.shape(weights[i]))"
   ],
   "metadata": {
    "collapsed": false,
    "ExecuteTime": {
     "end_time": "2024-02-18T22:39:13.700927Z",
     "start_time": "2024-02-18T22:39:13.691726Z"
    }
   },
   "id": "890daab096622a45",
   "execution_count": 41
  },
  {
   "cell_type": "code",
   "outputs": [],
   "source": [
    "# %% Training\n",
    "N = np.size(Xtrain, axis=0)                        # number of samples\n",
    "n_mbs = np.ceil(N/batch_size).astype(np.int16)    # number of minibatches"
   ],
   "metadata": {
    "collapsed": false
   },
   "id": "2531107eb4c3f2b",
   "execution_count": null
  },
  {
   "cell_type": "code",
   "outputs": [],
   "source": [
    "def get_activation_function():\n",
    "    return np.tanh\n",
    "\n",
    "\n",
    "def get_activation_function_derivative():\n",
    "    return lambda x: 1 - np.tanh(x)**2\n",
    "\n",
    "\n",
    "def predict(weights, X):\n",
    "    \"\"\"\n",
    "    The function takes as input an array of the weights and a matrix (X)\n",
    "    with images. The outputs should be a vector of the predicted\n",
    "    labels for each image, and a matrix whose columns are the activation of\n",
    "    the last layer for each image.\n",
    "    last_layer_activation should be of size [10 X num_samples]\n",
    "    predicted_labels should be of size [1 X num_samples]\n",
    "    The predicted label should correspond to the index with maximal\n",
    "    activation in the last layer\n",
    "    :param weights: array of the network weights\n",
    "    :param X: samples matrix (match the dimensions to your input)\n",
    "    :return:\n",
    "    \"\"\"\n",
    "    activation_function = get_activation_function()\n",
    "    s_layer = X.T\n",
    "    for i in range(0, len(weights)):\n",
    "        _, s_layer = forword_pass_one_layer(weights[i], s_layer, activation_function)\n",
    "    predicted_labels = np.argmax(s_layer, axis=0)\n",
    "    return predicted_labels, s_layer\n",
    "\n",
    "def digit_to_one_hot(y):\n",
    "    one_hot = np.zeros((10, len(y)))\n",
    "    one_hot[y, np.arange(len(y))] = 1\n",
    "    return one_hot\n",
    "\n",
    "def one_hot_to_digit(one_hot):\n",
    "    return np.argmax(one_hot, axis=0)\n",
    "\n",
    "def get_loss(y_hat, y):\n",
    "    return 0.5 * np.mean((np.sum((y_hat - digit_to_one_hot(y))**2, axis=0)))\n",
    "\n",
    "def test(weights, Xtest, ytest):\n",
    "    \"\"\"\n",
    "    This function receives the Network weights, a matrix of samples and\n",
    "    the corresponding labels, and outputs the classification\n",
    "    accuracy and mean loss.\n",
    "    The accuracy is equal to the ratio of correctly labeled images.\n",
    "    The loss is given the square distance of the last layer activation\n",
    "    and the 0-1 representation of the true label\n",
    "    Note that ytest in the MNIST data is given as a vector of labels from 0-9. To calculate the loss you\n",
    "    need to convert it to 0-1 (one-hot) representation with 1 at the position\n",
    "    corresponding to the label and 0 everywhere else (label \"2\" maps to\n",
    "    (0,0,1,0,0,0,0,0,0,0) etc.)\n",
    "    :param weights: array of the network weights\n",
    "    :param Xtest: samples matrix (match the dimensions to your input)\n",
    "    :param ytest: corresponding labels\n",
    "    :return:\n",
    "    \"\"\"\n",
    "    predicted_labels, y_hat = predict(weights, Xtest)\n",
    "    loss = get_loss(y_hat, ytest)\n",
    "    accuracy = np.mean(predicted_labels == ytest)\n",
    "    return accuracy, loss\n",
    "\n",
    "\n",
    "\n",
    "\n",
    "def backprop(weights, X, y):\n",
    "    \"\"\"\n",
    "    This function receives a set of weights, a matrix with images\n",
    "    and the corresponding labels. The output should be an array\n",
    "    with the gradients of the loss with respect to the weights, averaged over\n",
    "    the samples. It should also output the average loss of the samples.\n",
    "    :param weights: an array of length L where the n-th cell contains the\n",
    "    connectivity matrix between layer n-1 and layer n.\n",
    "    :param X: samples matrix (match the dimensions to your input)\n",
    "    :param y: corresponding labels\n",
    "    :return:\n",
    "    \"\"\"\n",
    "    \n",
    "    \n",
    "    activation_function = get_activation_function()\n",
    "    activation_function_derivative = get_activation_function_derivative()\n",
    "    h_layers, s_layers = forward_pass(weights, X, activation_function)\n",
    "    backword_pass(weights, h_layers, s_layers, y, activation_function_derivative)\n",
    "    print(np.shape(s_layers[-1]))\n",
    "\n",
    "    # return grads, mean_loss\n",
    "\n",
    "def backword_pass(weights, h_layers, s_layers, y, activation_function_derivative):\n",
    "    delta_layers = get_delta_layers(weights, h_layers, s_layers, y, activation_function_derivative)\n",
    "    number_of_samples = len(y)\n",
    "    weights_derivatives = get_gradients_tensor(delta_layers, s_layers, number_of_samples)\n",
    "    return weights_derivatives\n",
    "\n",
    "\n",
    "# tensor[l][miu][i][j] = the derivative of the loss with respect to the weight connecting the i-th neuron in the l+1-th layer\n",
    "# and the j-th neuron in the l-th layer for the miu-th sample in the batch\n",
    "def get_gradients_tensor(delta_layers, s_layers, number_of_samples):\n",
    "    tensor = np.zeros((len(delta_layers),), dtype=np.ndarray)\n",
    "    for i in range(len(delta_layers), 0):\n",
    "        tensor[i] = np.zeros((number_of_samples, len(delta_layers[i]), len(s_layers[i-1])))\n",
    "        for miu in range(number_of_samples):\n",
    "            tensor[i][miu] = np.outer(delta_layers[i][:,miu], s_layers[i][:,miu])\n",
    "    \n",
    "\n",
    "\n",
    "# delta[l][i][miu] = the derivative of the loss with respect to the activation of the i-th neuron in the l-th layer \n",
    "# and the miu-th sample in the batch\n",
    "def get_delta_layers(weights, h_layers, s_layers, y, activation_function_derivative):\n",
    "    delta_layers = np.zeros((len(weights),), dtype=np.ndarray)\n",
    "    for i in range(len(weights)-1, -1, -1):\n",
    "        if i == len(weights)-1:\n",
    "            delta_layers[i] = (s_layers[i] - digit_to_one_hot(y)) * activation_function_derivative(h_layers[i])\n",
    "        else:\n",
    "            delta_layers[i] = np.dot(weights[i+1].T, delta_layers[i+1]) * activation_function_derivative(h_layers[i])\n",
    "    return delta_layers\n",
    "\n",
    "\n",
    "def forword_pass_one_layer(weights, s_layer, activation_function):\n",
    "    next_h_layer =  np.dot(weights, s_layer)\n",
    "    next_s_layer = activation_function(next_h_layer)\n",
    "    return next_h_layer, next_s_layer\n",
    "\n",
    "\n",
    "def forward_pass(weights, X, activation_function):\n",
    "    number_of_layers = len(weights)+1\n",
    "    h_layers = np.zeros((number_of_layers,), dtype=np.ndarray)\n",
    "    s_layers = np.zeros((number_of_layers,), dtype=np.ndarray)\n",
    "        \n",
    "    s_layer =  deepcopy(X.T)\n",
    "    s_layers[0] = s_layer\n",
    "    for i in range(1, number_of_layers):\n",
    "        h_layer, s_layer = forword_pass_one_layer(weights[i], s_layer, activation_function)\n",
    "        h_layers[i] = h_layer\n",
    "        s_layers[i] = s_layer\n",
    "        \n",
    "    return h_layers, s_layers\n",
    "\n",
    "\n",
    "backprop(weights, Xtrain[50:120,:], ytrain[50:120])\n",
    "# print(test(weights, Xtest, ytest))"
   ],
   "metadata": {
    "collapsed": false,
    "is_executing": true,
    "ExecuteTime": {
     "start_time": "2024-02-19T00:14:58.354441Z"
    }
   },
   "id": "51698301d6550c8b",
   "execution_count": null
  },
  {
   "cell_type": "code",
   "outputs": [
    {
     "data": {
      "text/plain": "(70, 784)"
     },
     "execution_count": 77,
     "metadata": {},
     "output_type": "execute_result"
    }
   ],
   "source": [
    "Xtrain[50:120,:].shape\n",
    "# print(test(weights, Xtest, ytest))"
   ],
   "metadata": {
    "collapsed": false,
    "ExecuteTime": {
     "end_time": "2024-02-18T23:34:00.783179Z",
     "start_time": "2024-02-18T23:34:00.773664Z"
    }
   },
   "id": "da44081b71ada8aa",
   "execution_count": 77
  },
  {
   "cell_type": "code",
   "outputs": [],
   "source": [
    "# create vectors to keep track of loss:\n",
    "batch_loss = np.empty((epochs * n_mbs, )) * np.nan\n",
    "test_loss = np.empty((epochs * n_mbs, )) * np.nan\n",
    "test_acc = np.empty((epochs * n_mbs, )) * np.nan\n",
    "iteration = 0\n",
    "for i in range(epochs):\n",
    "    perm = np.random.permutation(N)\n",
    "    for j in range(n_mbs):\n",
    "        idxs = perm[(batch_size * j):min((batch_size * (j+1))-1, N-1)]\n",
    "\n",
    "        # pick a batch of samples:\n",
    "        X_mb = Xtrain[idxs, :]\n",
    "        y_mb = ytrain[idxs]\n",
    "\n",
    "        # compute the gradients:\n",
    "        grads, loss = backprop(weights, X_mb, y_mb)\n",
    "\n",
    "        # keep track of the batch loss\n",
    "        batch_loss[iteration] = loss\n",
    "\n",
    "        # uncomment the next line to keep track of test loss and error.\n",
    "        # test_acc[iteration], test_loss[iteration]= test(weights,Xtest,ytest);\n",
    "        # Note: evaluating the test_loss for each batch will slow down\n",
    "        # computation. If it is too slow you can instead evaluate the test\n",
    "        # loss at a lower frequency (once every 10 batches or so...)\n",
    "\n",
    "        # update the weights:\n",
    "        for k in range(len(weights)):\n",
    "            weights[k] = weights[k] - eta * grads[k]\n",
    "\n",
    "        iteration = iteration + 1  # counts the number of updates\n",
    "\n",
    "    acc, loss = test(weights, Xtest, ytest)\n",
    "    print('Done epoch %d, test accuracy: %f\\n' % (i, acc))\n"
   ],
   "metadata": {
    "collapsed": false
   },
   "id": "2b263caa08f72d31",
   "execution_count": null
  },
  {
   "cell_type": "code",
   "outputs": [],
   "source": [
    "# %% Plot some results\n",
    "# Example plot of the learning curve\n",
    "fig, ax1 = plt.subplots()\n",
    "ax1.plot(batch_loss, 'r-', label='Training loss')\n",
    "ax1.plot(test_loss, 'k-', label='Test loss')\n",
    "ax1.set_xlabel('Iteration')\n",
    "ax1.set_ylabel('Loss')\n",
    "\n",
    "ax2 = ax1.twinx()\n",
    "ax2.plot(test_acc, label='Test accuracy')\n",
    "ax2.set_ylabel('Accuracy')\n",
    "fig.legend()\n",
    "plt.show()\n"
   ],
   "metadata": {
    "collapsed": false
   },
   "id": "167bf739f376c66a",
   "execution_count": null
  },
  {
   "cell_type": "code",
   "outputs": [
    {
     "ename": "KeyboardInterrupt",
     "evalue": "",
     "output_type": "error",
     "traceback": [
      "\u001B[0;31m---------------------------------------------------------------------------\u001B[0m",
      "\u001B[0;31mKeyboardInterrupt\u001B[0m                         Traceback (most recent call last)",
      "Cell \u001B[0;32mIn[2], line 20\u001B[0m\n\u001B[1;32m     17\u001B[0m Xtest_raw \u001B[38;5;241m=\u001B[39m loadMNISTImages(get_path(path, \u001B[38;5;124m'\u001B[39m\u001B[38;5;124mt10k-images.idx3-ubyte\u001B[39m\u001B[38;5;124m'\u001B[39m))\n\u001B[1;32m     18\u001B[0m Xtrain_raw \u001B[38;5;241m=\u001B[39m loadMNISTImages(get_path(path, \u001B[38;5;124m'\u001B[39m\u001B[38;5;124mtrain-images.idx3-ubyte\u001B[39m\u001B[38;5;124m'\u001B[39m))\n\u001B[0;32m---> 20\u001B[0m \u001B[38;5;28;43mprint\u001B[39;49m(np\u001B[38;5;241m.\u001B[39mshape(Xtrain_raw))\n\u001B[1;32m     22\u001B[0m \u001B[38;5;66;03m# %% display a random image with label:\u001B[39;00m\n\u001B[1;32m     23\u001B[0m img_index \u001B[38;5;241m=\u001B[39m np\u001B[38;5;241m.\u001B[39mrandom\u001B[38;5;241m.\u001B[39mrandint(np\u001B[38;5;241m.\u001B[39msize(Xtrain_raw, axis\u001B[38;5;241m=\u001B[39m\u001B[38;5;241m0\u001B[39m))\n",
      "Cell \u001B[0;32mIn[2], line 20\u001B[0m\n\u001B[1;32m     17\u001B[0m Xtest_raw \u001B[38;5;241m=\u001B[39m loadMNISTImages(get_path(path, \u001B[38;5;124m'\u001B[39m\u001B[38;5;124mt10k-images.idx3-ubyte\u001B[39m\u001B[38;5;124m'\u001B[39m))\n\u001B[1;32m     18\u001B[0m Xtrain_raw \u001B[38;5;241m=\u001B[39m loadMNISTImages(get_path(path, \u001B[38;5;124m'\u001B[39m\u001B[38;5;124mtrain-images.idx3-ubyte\u001B[39m\u001B[38;5;124m'\u001B[39m))\n\u001B[0;32m---> 20\u001B[0m \u001B[38;5;28;43mprint\u001B[39;49m(np\u001B[38;5;241m.\u001B[39mshape(Xtrain_raw))\n\u001B[1;32m     22\u001B[0m \u001B[38;5;66;03m# %% display a random image with label:\u001B[39;00m\n\u001B[1;32m     23\u001B[0m img_index \u001B[38;5;241m=\u001B[39m np\u001B[38;5;241m.\u001B[39mrandom\u001B[38;5;241m.\u001B[39mrandint(np\u001B[38;5;241m.\u001B[39msize(Xtrain_raw, axis\u001B[38;5;241m=\u001B[39m\u001B[38;5;241m0\u001B[39m))\n",
      "File \u001B[0;32m_pydevd_bundle/pydevd_cython_darwin_310_64.pyx:1187\u001B[0m, in \u001B[0;36m_pydevd_bundle.pydevd_cython_darwin_310_64.SafeCallWrapper.__call__\u001B[0;34m()\u001B[0m\n",
      "File \u001B[0;32m_pydevd_bundle/pydevd_cython_darwin_310_64.pyx:627\u001B[0m, in \u001B[0;36m_pydevd_bundle.pydevd_cython_darwin_310_64.PyDBFrame.trace_dispatch\u001B[0;34m()\u001B[0m\n",
      "File \u001B[0;32m_pydevd_bundle/pydevd_cython_darwin_310_64.pyx:937\u001B[0m, in \u001B[0;36m_pydevd_bundle.pydevd_cython_darwin_310_64.PyDBFrame.trace_dispatch\u001B[0;34m()\u001B[0m\n",
      "File \u001B[0;32m_pydevd_bundle/pydevd_cython_darwin_310_64.pyx:928\u001B[0m, in \u001B[0;36m_pydevd_bundle.pydevd_cython_darwin_310_64.PyDBFrame.trace_dispatch\u001B[0;34m()\u001B[0m\n",
      "File \u001B[0;32m_pydevd_bundle/pydevd_cython_darwin_310_64.pyx:585\u001B[0m, in \u001B[0;36m_pydevd_bundle.pydevd_cython_darwin_310_64.PyDBFrame.do_wait_suspend\u001B[0;34m()\u001B[0m\n",
      "File \u001B[0;32m/Applications/PyCharm.app/Contents/plugins/python/helpers/pydev/pydevd.py:1184\u001B[0m, in \u001B[0;36mPyDB.do_wait_suspend\u001B[0;34m(self, thread, frame, event, arg, send_suspend_message, is_unhandled_exception)\u001B[0m\n\u001B[1;32m   1181\u001B[0m         from_this_thread\u001B[38;5;241m.\u001B[39mappend(frame_id)\n\u001B[1;32m   1183\u001B[0m \u001B[38;5;28;01mwith\u001B[39;00m \u001B[38;5;28mself\u001B[39m\u001B[38;5;241m.\u001B[39m_threads_suspended_single_notification\u001B[38;5;241m.\u001B[39mnotify_thread_suspended(thread_id, stop_reason):\n\u001B[0;32m-> 1184\u001B[0m     \u001B[38;5;28;43mself\u001B[39;49m\u001B[38;5;241;43m.\u001B[39;49m\u001B[43m_do_wait_suspend\u001B[49m\u001B[43m(\u001B[49m\u001B[43mthread\u001B[49m\u001B[43m,\u001B[49m\u001B[43m \u001B[49m\u001B[43mframe\u001B[49m\u001B[43m,\u001B[49m\u001B[43m \u001B[49m\u001B[43mevent\u001B[49m\u001B[43m,\u001B[49m\u001B[43m \u001B[49m\u001B[43marg\u001B[49m\u001B[43m,\u001B[49m\u001B[43m \u001B[49m\u001B[43msuspend_type\u001B[49m\u001B[43m,\u001B[49m\u001B[43m \u001B[49m\u001B[43mfrom_this_thread\u001B[49m\u001B[43m)\u001B[49m\n",
      "File \u001B[0;32m/Applications/PyCharm.app/Contents/plugins/python/helpers/pydev/pydevd.py:1199\u001B[0m, in \u001B[0;36mPyDB._do_wait_suspend\u001B[0;34m(self, thread, frame, event, arg, suspend_type, from_this_thread)\u001B[0m\n\u001B[1;32m   1196\u001B[0m             \u001B[38;5;28mself\u001B[39m\u001B[38;5;241m.\u001B[39m_call_mpl_hook()\n\u001B[1;32m   1198\u001B[0m         \u001B[38;5;28mself\u001B[39m\u001B[38;5;241m.\u001B[39mprocess_internal_commands()\n\u001B[0;32m-> 1199\u001B[0m         \u001B[43mtime\u001B[49m\u001B[38;5;241;43m.\u001B[39;49m\u001B[43msleep\u001B[49m\u001B[43m(\u001B[49m\u001B[38;5;241;43m0.01\u001B[39;49m\u001B[43m)\u001B[49m\n\u001B[1;32m   1201\u001B[0m \u001B[38;5;28mself\u001B[39m\u001B[38;5;241m.\u001B[39mcancel_async_evaluation(get_current_thread_id(thread), \u001B[38;5;28mstr\u001B[39m(\u001B[38;5;28mid\u001B[39m(frame)))\n\u001B[1;32m   1203\u001B[0m \u001B[38;5;66;03m# process any stepping instructions\u001B[39;00m\n",
      "\u001B[0;31mKeyboardInterrupt\u001B[0m: "
     ]
    }
   ],
   "source": [
    "# %% Display 10 misclassifications with highest loss\n",
    "# Example showing some misclassifications\n",
    "yhat, output = predict(weights, Xtest)\n",
    "t = np.zeros((10,len(ytest)))\n",
    "for i in range(len(ytest)):\n",
    "    t[ytest[i], i] = 1\n",
    "\n",
    "test_losses = sum((output-t)**2)\n",
    "sorted_index = np.argsort(-test_losses) # - for descending\n",
    "idxs = sorted_index[:10]\n",
    "\n",
    "plt.figure()\n",
    "for k in range(10):\n",
    "    ax = plt.subplot(2, 5, k+1)\n",
    "    x = Xtest_raw[idxs[k], :, :]\n",
    "    ax.imshow(x)\n",
    "    ax.set_xlabel('True label: %d\\n Prediction: %d' % (ytest[idxs[k]], yhat[idxs[k]]), fontsize=12)\n",
    "\n",
    "plt.show()"
   ],
   "metadata": {
    "collapsed": true,
    "ExecuteTime": {
     "end_time": "2024-02-18T20:54:17.679939Z",
     "start_time": "2024-02-18T20:53:25.426041Z"
    }
   },
   "id": "initial_id",
   "execution_count": 2
  }
 ],
 "metadata": {
  "kernelspec": {
   "display_name": "Python 3",
   "language": "python",
   "name": "python3"
  },
  "language_info": {
   "codemirror_mode": {
    "name": "ipython",
    "version": 2
   },
   "file_extension": ".py",
   "mimetype": "text/x-python",
   "name": "python",
   "nbconvert_exporter": "python",
   "pygments_lexer": "ipython2",
   "version": "2.7.6"
  }
 },
 "nbformat": 4,
 "nbformat_minor": 5
}
