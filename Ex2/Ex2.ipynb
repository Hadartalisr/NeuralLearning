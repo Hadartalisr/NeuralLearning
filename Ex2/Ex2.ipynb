{
 "cells": [
  {
   "cell_type": "code",
   "outputs": [],
   "source": [
    "import matplotlib.pyplot as plt\n",
    "import numpy as np\n",
    "from copy import deepcopy\n",
    "\n",
    "from scipy.io import loadmat\n",
    "from sklearn.model_selection import train_test_split\n",
    "\n",
    "\n",
    "def adatron(K,y0, eps=0.0001, t_max=1000):\n",
    "    '''\n",
    "    The AdaTron algorithm for SVM learning\n",
    "    \n",
    "    Parameters\n",
    "    ----------\n",
    "    K : PxP REAL MATRIX, where P is the training set size\n",
    "        Contains all pairwise overlaps between training examples: X_ij= x_i*x_j\n",
    "    y0 : Px1 REAL VECTOR\n",
    "        All training labels, y_i = label(x_i)\n",
    "    eps: FLOAT, optional\n",
    "        Stopping criterion (when update<eps). The default is .0001\n",
    "    t_max : INT, optional\n",
    "        max runtime in epochs. The default is 1000.\n",
    "\n",
    "    Returns\n",
    "    -------\n",
    "    hasConverged : BOOLEAN\n",
    "        whether the algorithm converged (no more updates) or reached t_max and eas stopped.\n",
    "    A : ExP REAL MATRIX, where E is the number of epochs\n",
    "        Contains the P-dim support coefficient vectors (alpha) for all the epochs.\n",
    "        A[t,:] is the support vector alpha_t (at epoch=t)\n",
    "        When the algorithm has converges, A[-1,:] is the final result that defines the decision rule \n",
    "\n",
    "    '''\n",
    "    P,P1= K.shape\n",
    "    assert P==P1, \"Kernel matrix K should be PxP, where P is the training set size\"\n",
    "    assert y0.size==P, \"input-output set size mismatch\"\n",
    "    hasConverged = False\n",
    "    epochs = 0\n",
    "    A = []\n",
    "    eta = 0.2/(np.max(np.linalg.norm(K,axis=0)))\n",
    "    A.append(np.zeros((P,1)))\n",
    "    # A.append(np.random.rand(P,1))\n",
    "    \n",
    "    while ((not hasConverged) and (epochs < t_max)):\n",
    "        a = deepcopy(A[-1])\n",
    "        for mu in range(P):\n",
    "            y = y0[mu]\n",
    "            coeff = y*(a*y0).T\n",
    "            da = max(-a[mu], eta*(1-coeff@K[:,mu]))\n",
    "            if np.isinf(da):\n",
    "                print(\"stopping because of exploding updates, epoch={}, mu={}\".format(epochs,mu))\n",
    "                hasConverged = True\n",
    "                continue;\n",
    "            if np.isnan(da):\n",
    "                print(\"nan\")\n",
    "                hasConverged = True\n",
    "                continue;\n",
    "            a[mu] += da\n",
    "        A.append(a)\n",
    "        diff = abs(A[-1]-A[-2])\n",
    "        update_flag = np.max(diff) > eps\n",
    "        hasConverged = hasConverged or (not update_flag)\n",
    "        epochs += 1\n",
    "        \n",
    "    return hasConverged, np.squeeze(np.array(A))\n",
    "\n",
    "\n",
    "def load_data():\n",
    "    M = loadmat('data_10D.mat')\n",
    "    return M['X'], M['w0'], M['y0']\n",
    "\n",
    "\n",
    "def split_data(X, y, train_samples=5):    \n",
    "    train_size = train_samples / len(y)\n",
    "    X_train, X_test, y_train, y_test = train_test_split(X, y, test_size=1-train_size)\n",
    "    return X_train, X_test, y_train, y_test\n",
    "\n",
    "\n",
    "def get_linear_kernel(X):\n",
    "    return get_linear_kernel_of_matrices(X, X.T)\n",
    "\n",
    "\n",
    "def get_linear_kernel_of_matrices(A, B):\n",
    "    \"\"\"\n",
    "    Args:\n",
    "        A: P1 X N\n",
    "        B: N X P2\n",
    "    Returns:\n",
    "        P1 X P2 matrix\n",
    "    \"\"\"\n",
    "    return np.dot(A, B)\n",
    "    \n",
    "\n",
    "\n",
    "(X, w0, y0) = load_data()\n",
    "\n",
    "import math\n",
    "\n",
    "def get_adatron_w(alphas, X_train, y_train):\n",
    "    y_train_v = y_train.flat \n",
    "    new_y_train = (alphas * y_train_v)[alphas > 0]\n",
    "    evaluation_matrix = X_train[alphas > 0] * new_y_train[:, np.newaxis]\n",
    "    return np.sum(evaluation_matrix, axis=0)\n",
    "\n",
    "\n",
    "def evaluate_adatron_model(alphas, X_train, y_train, X_test, y_test):\n",
    "        y_train_v = y_train.flat \n",
    "        new_y_train = (alphas * y_train_v)[alphas > 0]\n",
    "        evaluation_matrix = X_train[alphas > 0] * new_y_train[:, np.newaxis]\n",
    "        test_predictions = np.sign(np.sum(get_linear_kernel_of_matrices(evaluation_matrix, X_test.T), axis=0))\n",
    "        \n",
    "        y_test_v = y_test.flat\n",
    "        equal_indices = (y_test_v == test_predictions)\n",
    "        return np.sum(equal_indices)/len(y_test_v)\n",
    "\n",
    "\n",
    "def perceptron(X: np.ndarray, y0: np.ndarray, eta=0.1  , tmax=math.pow(10,3)):\n",
    "    N, P = X.shape\n",
    "    w = np.random.rand(N)\n",
    "    converged = False\n",
    "\n",
    "    for epoch in range(int(tmax)):\n",
    "        dot_product = np.dot(X.T, w)\n",
    "\n",
    "        y_pred = np.sign(dot_product).flatten()\n",
    "        y_pred[y_pred == 0] = -1  # Replace 0 with -1 (as wrong prediction)\n",
    "        misclassified = np.where(y_pred != y0)[0]\n",
    "\n",
    "        if misclassified.size == 0:\n",
    "            converged = True\n",
    "            break\n",
    "\n",
    "        update = np.sum(X[:, misclassified] * y0[misclassified], axis=1)\n",
    "        w += eta*update\n",
    "\n",
    "    return w, converged, epoch + 1\n",
    "    \n",
    "\n",
    "def evaluate_perceptron_model(w, X_test, y_test):\n",
    "        test_predictions = np.sign(np.dot(X_test, w))\n",
    "        equal_indices = (y_test == test_predictions)\n",
    "        return np.sum(equal_indices)/len(y_test)\n",
    "\n",
    "\n",
    "def cosine_distance(vector1, vector2):\n",
    "    dot_product = np.dot(vector1, vector2)\n",
    "    magnitude1 = np.linalg.norm(vector1)\n",
    "    magnitude2 = np.linalg.norm(vector2)\n",
    "    cosine_similarity = dot_product / (magnitude1 * magnitude2)\n",
    "    cosine_distance = 1 - cosine_similarity\n",
    "    return cosine_distance"
   ],
   "metadata": {
    "collapsed": false,
    "ExecuteTime": {
     "end_time": "2024-01-29T15:16:46.249281Z",
     "start_time": "2024-01-29T15:16:46.245360Z"
    }
   },
   "id": "d6662899446d1775",
   "execution_count": 46
  },
  {
   "cell_type": "code",
   "outputs": [],
   "source": [
    "import numpy as np\n",
    "from pylab import scatter\n",
    "\n",
    "def polynomial_kernel(X, c=1, d=2):\n",
    "    \"\"\"\n",
    "    Compute the polynomial kernel matrix for a set of samples.\n",
    "\n",
    "    Parameters:\n",
    "    - X: P × N matrix (P samples, N dimensions)\n",
    "    - c: Coefficient in the polynomial kernel\n",
    "    - d: Degree of the polynomial kernel\n",
    "\n",
    "    Returns:\n",
    "    - K: P × P kernel matrix\n",
    "    \"\"\"\n",
    "    K = np.dot(X, X.T) + c\n",
    "    K = np.power(K, d)\n",
    "    return K\n",
    "\n",
    "\n",
    "def gaussian_kernel(X, sigma=1.0):\n",
    "    \"\"\"\n",
    "    Compute the Gaussian (RBF) kernel matrix for a set of samples.\n",
    "\n",
    "    Parameters:\n",
    "    - X: P × N matrix (P samples, N dimensions)\n",
    "    - sigma: Width parameter in the Gaussian kernel\n",
    "\n",
    "    Returns:\n",
    "    - K: P × P kernel matrix\n",
    "    \"\"\"\n",
    "    pairwise_distances_sq = np.square(np.linalg.norm(X[:, np.newaxis] - X, axis=2))\n",
    "    K = np.exp(-pairwise_distances_sq / (2 * sigma**2))\n",
    "    return K\n",
    "\n",
    "\n",
    "def checkboard(P):\n",
    "   X=np.random.rand(2,P)\n",
    "   p=np.mod(np.ceil(X*3),2)\n",
    "   y0=2.*np.logical_xor(p[0,:],p[1,:])-1.\n",
    "   return X,y0\n",
    "\n",
    "def test_checkboard(x, y):\n",
    "   scatter(x[0,y==-1.],x[1,y==-1.],c='r')\n",
    "   scatter(x[0,y==1.],x[1,y==1.],c='b')\n"
   ],
   "metadata": {
    "collapsed": false,
    "ExecuteTime": {
     "end_time": "2024-01-29T15:37:02.695127Z",
     "start_time": "2024-01-29T15:37:02.676651Z"
    }
   },
   "id": "e5e77e5dd0fbb5e4",
   "execution_count": 74
  },
  {
   "cell_type": "code",
   "outputs": [
    {
     "data": {
      "text/plain": "<Figure size 640x480 with 1 Axes>",
      "image/png": "[encoded data removed]"
     },
     "metadata": {},
     "output_type": "display_data"
    }
   ],
   "source": [
    "P_train = 1000\n",
    "(X_train, y_train) = checkboard(P_train)\n",
    "P_test = 5*P_train\n",
    "(X_test, y_test) = checkboard(P_test)\n",
    "test_checkboard(X_test, y_test)"
   ],
   "metadata": {
    "collapsed": false,
    "ExecuteTime": {
     "end_time": "2024-01-29T14:37:56.609694Z",
     "start_time": "2024-01-29T14:37:56.472381Z"
    }
   },
   "id": "594c9692515714fe",
   "execution_count": 13
  },
  {
   "cell_type": "code",
   "outputs": [],
   "source": [
    "# 1.3\n",
    "\n",
    "def predict_adatron_model(alphas, X_train, y_train, X_test):\n",
    "        y_train_v = y_train.flat \n",
    "        new_y_train = (alphas * y_train_v)[alphas > 0]\n",
    "        evaluation_matrix = X_train[alphas > 0] * new_y_train[:, np.newaxis]\n",
    "        return np.sign(np.sum(get_linear_kernel_of_matrices(evaluation_matrix, X_test.T), axis=0))\n",
    "        \n",
    "\n",
    "P_train = 1000\n",
    "(X_train, y_train) = checkboard(P_train)\n",
    "y_train = y_train.reshape(-1,1)\n",
    "\n",
    "P_test = 2000\n",
    "(X_test, y_test) = checkboard(P_test)\n",
    "\n",
    "# \n",
    "polynomial_kernel_degree = 5\n",
    "# K = get_linear_kernel(X_train.T)\n",
    "K = polynomial_kernel(X_train.T, d=polynomial_kernel_degree)\n",
    "# K = gaussian_kernel(X_train.T, 0.3)\n",
    "has_converged, A = adatron(K, y_train, t_max=math.pow(10, 5))\n",
    "alphas = A[-1]\n",
    "\n",
    "y_prediction = predict_adatron_model(alphas, X_train.T, y_train, X_test.T)\n",
    "\n",
    "test_checkboard(X_test, y_prediction)\n",
    "\n",
    "\n",
    "\n",
    "\n",
    "\n",
    "\n",
    "\n"
   ],
   "metadata": {
    "collapsed": false,
    "is_executing": true,
    "ExecuteTime": {
     "start_time": "2024-01-29T15:41:51.559020Z"
    }
   },
   "id": "e781bea4d3137bac",
   "execution_count": null
  },
  {
   "cell_type": "code",
   "outputs": [],
   "source": [
    "\n"
   ],
   "metadata": {
    "collapsed": false,
    "ExecuteTime": {
     "end_time": "2024-01-29T15:12:47.538698Z",
     "start_time": "2024-01-29T15:12:47.533303Z"
    }
   },
   "id": "894c6ea7947a0583",
   "execution_count": 38
  },
  {
   "cell_type": "code",
   "outputs": [],
   "source": [
    "# Create a 2D array (matrix)\n",
    "matrix = np.array([[1, 2],\n",
    "                   [4, 5],\n",
    "                   [7, 8]])\n",
    "\n",
    "# Create a 1D vector\n",
    "vector = np.array([[2, 3],[2000, 3000], [2000, 3000], [2000, 3000], [2000, 3000], [2000, 3000]])\n",
    "\n",
    "# Multiply each row of the matrix by the corresponding value from the vector\n",
    "np.dot(matrix, vector.T)"
   ],
   "metadata": {
    "collapsed": false,
    "ExecuteTime": {
     "start_time": "2024-01-29T12:47:29.281204Z"
    }
   },
   "id": "512b63917cf5aba9",
   "execution_count": null
  },
  {
   "cell_type": "code",
   "outputs": [],
   "source": [],
   "metadata": {
    "collapsed": false,
    "ExecuteTime": {
     "start_time": "2024-01-29T12:47:29.282004Z"
    }
   },
   "id": "7dac2b1764f95243",
   "execution_count": null
  },
  {
   "cell_type": "code",
   "outputs": [],
   "source": [
    "np.sign(np.sum(np.dot(matrix, vector.T), axis=0))"
   ],
   "metadata": {
    "collapsed": false,
    "ExecuteTime": {
     "start_time": "2024-01-29T12:47:29.282812Z"
    }
   },
   "id": "765050bb2504c4d2",
   "execution_count": null
  },
  {
   "cell_type": "code",
   "outputs": [
    {
     "data": {
      "text/plain": "array([[ 1,  4,  9],\n       [16, 25, 36],\n       [49, 64, 81]])"
     },
     "execution_count": 73,
     "metadata": {},
     "output_type": "execute_result"
    }
   ],
   "source": [
    "matrix = np.array([[1, 2, 3],\n",
    "                   [4, 5, 6],\n",
    "                   [7, 8, 9]])\n",
    "\n",
    "# Raise each element of the matrix to the power of 2\n",
    "np.power(matrix, 2)"
   ],
   "metadata": {
    "collapsed": false,
    "ExecuteTime": {
     "end_time": "2024-01-29T15:36:31.148504Z",
     "start_time": "2024-01-29T15:36:31.130257Z"
    }
   },
   "id": "f9ab367a7da3b849",
   "execution_count": 73
  },
  {
   "cell_type": "code",
   "outputs": [],
   "source": [],
   "metadata": {
    "collapsed": false
   },
   "id": "1d74258331c34d00"
  }
 ],
 "metadata": {
  "kernelspec": {
   "display_name": "Python 3",
   "language": "python",
   "name": "python3"
  },
  "language_info": {
   "codemirror_mode": {
    "name": "ipython",
    "version": 2
   },
   "file_extension": ".py",
   "mimetype": "text/x-python",
   "name": "python",
   "nbconvert_exporter": "python",
   "pygments_lexer": "ipython2",
   "version": "2.7.6"
  }
 },
 "nbformat": 4,
 "nbformat_minor": 5
}
