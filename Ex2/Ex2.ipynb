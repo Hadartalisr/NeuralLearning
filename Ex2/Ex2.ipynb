{
 "cells": [
  {
   "cell_type": "code",
   "execution_count": 5,
   "id": "1ae60543d83030d7",
   "metadata": {
    "collapsed": false,
    "ExecuteTime": {
     "end_time": "2024-01-27T16:14:47.596088Z",
     "start_time": "2024-01-27T16:14:47.591927Z"
    }
   },
   "outputs": [],
   "source": [
    "import numpy as np\n",
    "from copy import deepcopy\n",
    "\n",
    "def adatron(K,y0, eps=0.0001, t_max=1000):\n",
    "    '''\n",
    "    The AdaTron algorithm for SVM learning\n",
    "    \n",
    "    Parameters\n",
    "    ----------\n",
    "    K : PxP REAL MATRIX, where P is the training set size\n",
    "        Contains all pairwise overlaps between training examples: X_ij= x_i*x_j\n",
    "    y0 : Px1 REAL VECTOR\n",
    "        All training labels, y_i = label(x_i)\n",
    "    eps: FLOAT, optional\n",
    "        Stopping criterion (when update<eps). The default is .0001\n",
    "    t_max : INT, optional\n",
    "        max runtime in epochs. The default is 1000.\n",
    "\n",
    "    Returns\n",
    "    -------\n",
    "    hasConverged : BOOLEAN\n",
    "        whether the algorithm converged (no more updates) or reached t_max and eas stopped.\n",
    "    A : ExP REAL MATRIX, where E is the number of epochs\n",
    "        Contains the P-dim support coefficient vectors (alpha) for all the epochs.\n",
    "        A[t,:] is the support vector alpha_t (at epoch=t)\n",
    "        When the algorithm has converges, A[-1,:] is the final result that defines the decision rule \n",
    "\n",
    "    '''\n",
    "    P,P1= K.shape\n",
    "    assert P==P1, \"Kernel matrix K should be PxP, where P is the training set size\"\n",
    "    assert y0.size==P, \"input-output set size mismatch\"\n",
    "    hasConverged = False\n",
    "    epochs = 0\n",
    "    A = []\n",
    "    eta = 0.2/(np.max(np.linalg.norm(K,axis=0)))\n",
    "    A.append(np.zeros((P,1)))\n",
    "    # A.append(np.random.rand(P,1))\n",
    "    \n",
    "    while ((not hasConverged) and (epochs < t_max)):\n",
    "        a = deepcopy(A[-1])\n",
    "        for mu in range(P):\n",
    "            y = y0[mu]\n",
    "            coeff = y*(a*y0).T\n",
    "            da = max(-a[mu],eta*(1-coeff@K[:,mu]))\n",
    "            if np.isinf(da):\n",
    "                print(\"stopping because of exploding updates, epoch={}, mu={}\".format(epochs,mu))\n",
    "                hasConverged = True\n",
    "                continue;\n",
    "            if np.isnan(da):\n",
    "                print(\"nan\")\n",
    "                hasConverged = True\n",
    "                continue;\n",
    "            a[mu] += da\n",
    "        A.append(a)\n",
    "        diff = abs(A[-1]-A[-2])\n",
    "        update_flag = np.max(diff) > eps\n",
    "        hasConverged = hasConverged or (not update_flag)\n",
    "        epochs += 1\n",
    "        \n",
    "    return hasConverged, np.squeeze(np.array(A))"
   ]
  },
  {
   "cell_type": "code",
   "outputs": [],
   "source": [
    "from scipy.io import loadmat\n",
    "from sklearn.model_selection import train_test_split\n",
    "\n",
    "\n",
    "def load_data():\n",
    "    M = loadmat('data_10D.mat')\n",
    "    return M['X'], M['w0'], M['y0']\n",
    "\n",
    "\n",
    "def split_data(X, y, train_samples=5):    \n",
    "    train_size = train_samples / len(y)\n",
    "    X_train, X_test, y_train, y_test = train_test_split(X, y, test_size=1-train_size)\n",
    "    return X_train, X_test, y_train, y_test\n",
    "\n",
    "def get_linear_kernel(X_train):\n",
    "    return np.dot(X_train, X_train.T)\n",
    "    \n",
    "\n",
    "\n",
    "(X, w0, y0) = load_data()\n"
   ],
   "metadata": {
    "collapsed": false,
    "ExecuteTime": {
     "end_time": "2024-01-27T16:14:36.718695Z",
     "start_time": "2024-01-27T16:14:36.715256Z"
    }
   },
   "id": "45649cd918b0fd4a",
   "execution_count": 3
  },
  {
   "cell_type": "code",
   "outputs": [
    {
     "ename": "KeyboardInterrupt",
     "evalue": "",
     "output_type": "error",
     "traceback": [
      "\u001B[0;31m---------------------------------------------------------------------------\u001B[0m",
      "\u001B[0;31mKeyboardInterrupt\u001B[0m                         Traceback (most recent call last)",
      "Cell \u001B[0;32mIn[7], line 12\u001B[0m\n\u001B[1;32m     10\u001B[0m X_train, X_test, y_train, y_test \u001B[38;5;241m=\u001B[39m split_data(X\u001B[38;5;241m.\u001B[39mT, y0, P)\n\u001B[1;32m     11\u001B[0m K \u001B[38;5;241m=\u001B[39m get_linear_kernel(X_train)\n\u001B[0;32m---> 12\u001B[0m has_converged, A \u001B[38;5;241m=\u001B[39m \u001B[43madatron\u001B[49m\u001B[43m(\u001B[49m\u001B[43mK\u001B[49m\u001B[43m,\u001B[49m\u001B[43m \u001B[49m\u001B[43my_train\u001B[49m\u001B[43m)\u001B[49m\n\u001B[1;32m     13\u001B[0m \u001B[38;5;28;01mif\u001B[39;00m \u001B[38;5;129;01mnot\u001B[39;00m has_converged: \n\u001B[1;32m     14\u001B[0m     \u001B[38;5;28;01mcontinue\u001B[39;00m\n",
      "Cell \u001B[0;32mIn[5], line 49\u001B[0m, in \u001B[0;36madatron\u001B[0;34m(K, y0, eps, t_max)\u001B[0m\n\u001B[1;32m     47\u001B[0m     hasConverged \u001B[38;5;241m=\u001B[39m \u001B[38;5;28;01mTrue\u001B[39;00m\n\u001B[1;32m     48\u001B[0m     \u001B[38;5;28;01mcontinue\u001B[39;00m;\n\u001B[0;32m---> 49\u001B[0m \u001B[38;5;28;01mif\u001B[39;00m \u001B[43mnp\u001B[49m\u001B[38;5;241;43m.\u001B[39;49m\u001B[43misnan\u001B[49m\u001B[43m(\u001B[49m\u001B[43mda\u001B[49m\u001B[43m)\u001B[49m:\n\u001B[1;32m     50\u001B[0m     \u001B[38;5;28mprint\u001B[39m(\u001B[38;5;124m\"\u001B[39m\u001B[38;5;124mnan\u001B[39m\u001B[38;5;124m\"\u001B[39m)\n\u001B[1;32m     51\u001B[0m     hasConverged \u001B[38;5;241m=\u001B[39m \u001B[38;5;28;01mTrue\u001B[39;00m\n",
      "\u001B[0;31mKeyboardInterrupt\u001B[0m: "
     ]
    }
   ],
   "source": [
    "# EX 1.2.1\n",
    "\n",
    "n = 100\n",
    "P_arr = np.arange(5, 301, 5)\n",
    "average_number_of_support_vectors = np.zeros(len(P_arr))\n",
    "for index, P in enumerate(P_arr):\n",
    "    i = n = 100\n",
    "    sum_of_number_of_support_vectors = 0\n",
    "    while i > 0: \n",
    "        X_train, X_test, y_train, y_test = split_data(X.T, y0, P)\n",
    "        K = get_linear_kernel(X_train)\n",
    "        has_converged, A = adatron(K, y_train)\n",
    "        if not has_converged: \n",
    "            continue\n",
    "        i-=1 \n",
    "        sum_of_number_of_support_vectors += np.sum(A[-1] != 0)\n",
    "                \n",
    "    \n",
    "\n"
   ],
   "metadata": {
    "collapsed": true,
    "ExecuteTime": {
     "end_time": "2024-01-27T16:15:28.856734Z",
     "start_time": "2024-01-27T16:15:21.646418Z"
    }
   },
   "id": "initial_id",
   "execution_count": 7
  },
  {
   "cell_type": "code",
   "outputs": [],
   "source": [],
   "metadata": {
    "collapsed": false,
    "ExecuteTime": {
     "end_time": "2024-01-27T15:50:42.705850Z",
     "start_time": "2024-01-27T15:50:42.700517Z"
    }
   },
   "id": "1268bc60cf2e6b88",
   "execution_count": 36
  },
  {
   "cell_type": "code",
   "outputs": [],
   "source": [
    "from pylab import scatter\n",
    "\n",
    "def checkboard(N):\n",
    "   X=np.random.rand(2,N)\n",
    "   p=np.mod(np.ceil(X*3),2)\n",
    "   y0=2.*np.logical_xor(p[0,:],p[1,:])-1.\n",
    "   return X,y0\n",
    "\n",
    "def test_checkboard():\n",
    "   x,y=checkboard(2000)\n",
    "   scatter(x[0,y==-1.],x[1,y==-1.],c='r')\n",
    "   scatter(x[0,y==1.],x[1,y==1.],c='b')\n"
   ],
   "metadata": {
    "collapsed": false,
    "ExecuteTime": {
     "end_time": "2024-01-27T15:10:09.783946Z",
     "start_time": "2024-01-27T15:10:09.777230Z"
    }
   },
   "id": "894c6ea7947a0583",
   "execution_count": 15
  },
  {
   "cell_type": "code",
   "outputs": [],
   "source": [],
   "metadata": {
    "collapsed": false
   },
   "id": "512b63917cf5aba9"
  }
 ],
 "metadata": {
  "kernelspec": {
   "display_name": "Python 3",
   "language": "python",
   "name": "python3"
  },
  "language_info": {
   "codemirror_mode": {
    "name": "ipython",
    "version": 2
   },
   "file_extension": ".py",
   "mimetype": "text/x-python",
   "name": "python",
   "nbconvert_exporter": "python",
   "pygments_lexer": "ipython2",
   "version": "2.7.6"
  }
 },
 "nbformat": 4,
 "nbformat_minor": 5
}
